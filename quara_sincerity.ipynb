{
  "nbformat": 4,
  "nbformat_minor": 0,
  "metadata": {
    "colab": {
      "name": "quara_sincerity.ipynb",
      "provenance": [],
      "collapsed_sections": [],
      "mount_file_id": "1WCWhFLkMr7YAHVthCT4ZFBfGXCNQTuKC",
      "authorship_tag": "ABX9TyM7Z7uV9E9yGFliPBu6pq8v",
      "include_colab_link": true
    },
    "kernelspec": {
      "name": "python3",
      "display_name": "Python 3"
    },
    "accelerator": "GPU"
  },
  "cells": [
    {
      "cell_type": "markdown",
      "metadata": {
        "id": "view-in-github",
        "colab_type": "text"
      },
      "source": [
        "<a href=\"https://colab.research.google.com/github/Amrit1Gurung/Quara-Sincerity/blob/main/quara_sincerity.ipynb\" target=\"_parent\"><img src=\"https://colab.research.google.com/assets/colab-badge.svg\" alt=\"Open In Colab\"/></a>"
      ]
    },
    {
      "cell_type": "code",
      "metadata": {
        "id": "Jjqip0hNvaa5"
      },
      "source": [
        "import os\r\n",
        "import numpy as np  \r\n",
        "import pandas as pd \r\n",
        "import seaborn as sns\r\n",
        "import matplotlib.pyplot as plt\r\n",
        "%matplotlib inline\r\n",
        "import re           \r\n",
        "from sklearn.model_selection import train_test_split\r\n",
        "from sklearn import metrics\r\n",
        "import tensorflow as tf\r\n",
        "from tensorflow import keras\r\n",
        "from tensorflow.keras import layers\r\n",
        "from tensorflow.keras.preprocessing.text import Tokenizer \r\n",
        "from tensorflow.keras.preprocessing.sequence import pad_sequences  \r\n",
        "from tensorflow.keras.layers import Input, LSTM, Embedding, Dense, Dropout, Activation\r\n",
        "from tensorflow.keras.optimizers import Adam\r\n",
        "from tensorflow.keras.models import Model, Sequential\r\n",
        "from nltk.corpus import stopwords \r\n",
        "stop_words = set(stopwords.words('english')) \r\n",
        "import warnings\r\n",
        "warnings.filterwarnings(\"ignore\")"
      ],
      "execution_count": null,
      "outputs": []
    },
    {
      "cell_type": "code",
      "metadata": {
        "colab": {
          "base_uri": "https://localhost:8080/",
          "height": 212
        },
        "id": "zCcPkumav_9R",
        "outputId": "17144593-c3fb-42ce-f8f3-9d30e668e0af"
      },
      "source": [
        "# loading dataset\r\n",
        "quara = pd.read_csv('/content/drive/My Drive/programs/Datasets/quora/quora.csv')\r\n",
        "print('shape : ', quara.shape)\r\n",
        "quara.head()\r\n"
      ],
      "execution_count": null,
      "outputs": [
        {
          "output_type": "stream",
          "text": [
            "shape :  (100000, 6)\n"
          ],
          "name": "stdout"
        },
        {
          "output_type": "execute_result",
          "data": {
            "text/html": [
              "<div>\n",
              "<style scoped>\n",
              "    .dataframe tbody tr th:only-of-type {\n",
              "        vertical-align: middle;\n",
              "    }\n",
              "\n",
              "    .dataframe tbody tr th {\n",
              "        vertical-align: top;\n",
              "    }\n",
              "\n",
              "    .dataframe thead th {\n",
              "        text-align: right;\n",
              "    }\n",
              "</style>\n",
              "<table border=\"1\" class=\"dataframe\">\n",
              "  <thead>\n",
              "    <tr style=\"text-align: right;\">\n",
              "      <th></th>\n",
              "      <th>qid</th>\n",
              "      <th>question_text</th>\n",
              "      <th>target</th>\n",
              "      <th>Unnamed: 3</th>\n",
              "      <th>Unnamed: 4</th>\n",
              "      <th>Unnamed: 5</th>\n",
              "    </tr>\n",
              "  </thead>\n",
              "  <tbody>\n",
              "    <tr>\n",
              "      <th>0</th>\n",
              "      <td>2cad3a505ddb8aa72b53</td>\n",
              "      <td>Why are most indian parents against even likin...</td>\n",
              "      <td>1</td>\n",
              "      <td>NaN</td>\n",
              "      <td>NaN</td>\n",
              "      <td>NaN</td>\n",
              "    </tr>\n",
              "    <tr>\n",
              "      <th>1</th>\n",
              "      <td>e72c34e4fdd593ca8899</td>\n",
              "      <td>Is it OK that I have a 7\" penis and only 12 ye...</td>\n",
              "      <td>1</td>\n",
              "      <td>NaN</td>\n",
              "      <td>NaN</td>\n",
              "      <td>NaN</td>\n",
              "    </tr>\n",
              "    <tr>\n",
              "      <th>2</th>\n",
              "      <td>60e111fdcc9caa3a50ea</td>\n",
              "      <td>Why do guys past 40 who party like they are st...</td>\n",
              "      <td>1</td>\n",
              "      <td>NaN</td>\n",
              "      <td>NaN</td>\n",
              "      <td>NaN</td>\n",
              "    </tr>\n",
              "    <tr>\n",
              "      <th>3</th>\n",
              "      <td>3776e33418a90b6f46aa</td>\n",
              "      <td>Those who say that the Muslim is a traitor, is...</td>\n",
              "      <td>1</td>\n",
              "      <td>NaN</td>\n",
              "      <td>NaN</td>\n",
              "      <td>NaN</td>\n",
              "    </tr>\n",
              "    <tr>\n",
              "      <th>4</th>\n",
              "      <td>2f3fac52fade02a70244</td>\n",
              "      <td>What is a proper way to cook a dog?</td>\n",
              "      <td>1</td>\n",
              "      <td>NaN</td>\n",
              "      <td>NaN</td>\n",
              "      <td>NaN</td>\n",
              "    </tr>\n",
              "  </tbody>\n",
              "</table>\n",
              "</div>"
            ],
            "text/plain": [
              "                    qid  ... Unnamed: 5\n",
              "0  2cad3a505ddb8aa72b53  ...        NaN\n",
              "1  e72c34e4fdd593ca8899  ...        NaN\n",
              "2  60e111fdcc9caa3a50ea  ...        NaN\n",
              "3  3776e33418a90b6f46aa  ...        NaN\n",
              "4  2f3fac52fade02a70244  ...        NaN\n",
              "\n",
              "[5 rows x 6 columns]"
            ]
          },
          "metadata": {
            "tags": []
          },
          "execution_count": 3
        }
      ]
    },
    {
      "cell_type": "code",
      "metadata": {
        "colab": {
          "base_uri": "https://localhost:8080/"
        },
        "id": "RjpyP3dlwHsV",
        "outputId": "34ee16d9-f6a2-4b79-9db2-86277776de67"
      },
      "source": [
        "quara = quara[['question_text','target']]\r\n",
        "quara = quara[quara.target.isin(['0','1'])].sample(frac=1).reset_index()  # select class lebel 0 and1 and samplubg dataset\r\n",
        "quara = quara.drop('index',axis=1)\r\n",
        "quara = quara.drop_duplicates(subset='question_text')\r\n",
        "duara = quara.dropna()\r\n",
        "quara['target'] = quara['target'].astype('int32')\r\n",
        "print('Now the size of the data is : ',quara.shape)"
      ],
      "execution_count": null,
      "outputs": [
        {
          "output_type": "stream",
          "text": [
            "Now the size of the data is :  (99931, 2)\n"
          ],
          "name": "stdout"
        }
      ]
    },
    {
      "cell_type": "code",
      "metadata": {
        "colab": {
          "base_uri": "https://localhost:8080/",
          "height": 195
        },
        "id": "qTaG3Px1wRbk",
        "outputId": "b527d93b-cd8d-4b4c-a15e-77c9a7d0dd26"
      },
      "source": [
        "quara.head()"
      ],
      "execution_count": null,
      "outputs": [
        {
          "output_type": "execute_result",
          "data": {
            "text/html": [
              "<div>\n",
              "<style scoped>\n",
              "    .dataframe tbody tr th:only-of-type {\n",
              "        vertical-align: middle;\n",
              "    }\n",
              "\n",
              "    .dataframe tbody tr th {\n",
              "        vertical-align: top;\n",
              "    }\n",
              "\n",
              "    .dataframe thead th {\n",
              "        text-align: right;\n",
              "    }\n",
              "</style>\n",
              "<table border=\"1\" class=\"dataframe\">\n",
              "  <thead>\n",
              "    <tr style=\"text-align: right;\">\n",
              "      <th></th>\n",
              "      <th>question_text</th>\n",
              "      <th>target</th>\n",
              "    </tr>\n",
              "  </thead>\n",
              "  <tbody>\n",
              "    <tr>\n",
              "      <th>0</th>\n",
              "      <td>Why do you not think female circumcision shoul...</td>\n",
              "      <td>1</td>\n",
              "    </tr>\n",
              "    <tr>\n",
              "      <th>1</th>\n",
              "      <td>What is the cost of making the glass of a beer...</td>\n",
              "      <td>0</td>\n",
              "    </tr>\n",
              "    <tr>\n",
              "      <th>2</th>\n",
              "      <td>Does Jews control Trump’s decisions?</td>\n",
              "      <td>1</td>\n",
              "    </tr>\n",
              "    <tr>\n",
              "      <th>3</th>\n",
              "      <td>Why don't Muslims in India eat rats, dogs, and...</td>\n",
              "      <td>1</td>\n",
              "    </tr>\n",
              "    <tr>\n",
              "      <th>4</th>\n",
              "      <td>Why do girls feel so offended when guys look a...</td>\n",
              "      <td>1</td>\n",
              "    </tr>\n",
              "  </tbody>\n",
              "</table>\n",
              "</div>"
            ],
            "text/plain": [
              "                                       question_text  target\n",
              "0  Why do you not think female circumcision shoul...       1\n",
              "1  What is the cost of making the glass of a beer...       0\n",
              "2               Does Jews control Trump’s decisions?       1\n",
              "3  Why don't Muslims in India eat rats, dogs, and...       1\n",
              "4  Why do girls feel so offended when guys look a...       1"
            ]
          },
          "metadata": {
            "tags": []
          },
          "execution_count": 5
        }
      ]
    },
    {
      "cell_type": "code",
      "metadata": {
        "id": "MjX7AqCy2XtF"
      },
      "source": [
        "stop_words = set(stopwords.words('english'))\r\n",
        "# function to preprocess and remove stopwords\r\n",
        "def remove_stopwords(text):\r\n",
        "  no_stops = []\r\n",
        "  sent = text.lower()\r\n",
        "  sent = re.sub(r\"[^a-zA-Z]\",\" \",sent)\r\n",
        "  #sent = str(text)\r\n",
        "  for w in sent.split():\r\n",
        "    if not w in stop_words:\r\n",
        "      no_stops.append(w)\r\n",
        "  return (\" \".join(no_stops))"
      ],
      "execution_count": null,
      "outputs": []
    },
    {
      "cell_type": "code",
      "metadata": {
        "id": "uBLqBVLLkIfO"
      },
      "source": [
        "quara['clean_question'] = quara['question_text'].apply(lambda x: remove_stopwords(x))"
      ],
      "execution_count": null,
      "outputs": []
    },
    {
      "cell_type": "code",
      "metadata": {
        "id": "sRDbBN9fkIk4"
      },
      "source": [
        "#loading the glove model\r\n",
        "def loadGloveModel(gloveFile):\r\n",
        "    print(\"Loading Glove Model\")\r\n",
        "    f = open(gloveFile,'r')\r\n",
        "    word_embeddings = {}\r\n",
        "    for line in f:\r\n",
        "        values = line.split()\r\n",
        "        word = values[0]\r\n",
        "        coefs = np.asarray(values[1:], dtype='float32')\r\n",
        "        word_embeddings[word] = coefs\r\n",
        "    print (\"Done.\"),len(word_embeddings),(\" words loaded!\")\r\n",
        "    return word_embeddings"
      ],
      "execution_count": null,
      "outputs": []
    },
    {
      "cell_type": "code",
      "metadata": {
        "colab": {
          "base_uri": "https://localhost:8080/"
        },
        "id": "-_wIRezzs6zn",
        "outputId": "bc023a14-ab58-4862-fea8-2294cacf0515"
      },
      "source": [
        "# save the glove model\r\n",
        "word_embedding=loadGloveModel(\"/content/drive/MyDrive/programs/Datasets/Medical Transcriptions/glove.6B.100d.txt\")"
      ],
      "execution_count": null,
      "outputs": [
        {
          "output_type": "stream",
          "text": [
            "Loading Glove Model\n",
            "Done.\n"
          ],
          "name": "stdout"
        }
      ]
    },
    {
      "cell_type": "code",
      "metadata": {
        "id": "mR1t1nDAuP-2"
      },
      "source": [
        "# set independent and target column/feature vector\r\n",
        "X = quara['clean_question'].values\r\n",
        "Y = quara['target'].values\r\n",
        "x_train, x_test, y_train, y_test = train_test_split(X, Y, test_size=0.2,random_state=42)"
      ],
      "execution_count": null,
      "outputs": []
    },
    {
      "cell_type": "code",
      "metadata": {
        "colab": {
          "base_uri": "https://localhost:8080/"
        },
        "id": "woBtemF9v2Kz",
        "outputId": "84129005-0509-4bc9-caf2-91dd4b7596ab"
      },
      "source": [
        "tokenizer = Tokenizer(num_words=5000)\r\n",
        "tokenizer.fit_on_texts(x_train)\r\n",
        "train_seq = tokenizer.texts_to_sequences(x_train)\r\n",
        "test_seq = tokenizer.texts_to_sequences(x_test)\r\n",
        "train_pad = pad_sequences(train_seq)\r\n",
        "test_pad = pad_sequences(test_seq, maxlen=train_pad.shape[1])\r\n",
        "word_index = tokenizer.word_index\r\n",
        "\r\n",
        "print('The number of unique tokens are {}'.format(len(word_index)))\r\n",
        "print(\"Now train and test tensor shape is : \", train_pad.shape,test_pad.shape)\r\n",
        "print('target train and test tesor shape is: ', y_train.shape,y_test.shape)\r\n"
      ],
      "execution_count": null,
      "outputs": [
        {
          "output_type": "stream",
          "text": [
            "The number of unique tokens are 42566\n",
            "Now train and test tensor shape is :  (79944, 83) (19987, 83)\n",
            "target train and test tesor shape is:  (79944,) (19987,)\n"
          ],
          "name": "stdout"
        }
      ]
    },
    {
      "cell_type": "code",
      "metadata": {
        "id": "_JbcGC280PqI"
      },
      "source": [
        "vocab_size = len(word_index)+1\r\n",
        "sequence_len = train_pad.shape[1]\r\n",
        "embedded_dim = 100\r\n",
        "# creating embedding matrix\r\n",
        "embedding_matrix = np.zeros((vocab_size,embedded_dim))\r\n",
        "for word, i in word_index.items():\r\n",
        "  embedding_vector = word_embedding.get(word)\r\n",
        "  if embedding_vector is not None:\r\n",
        "    embedding_matrix[i] = embedding_vector"
      ],
      "execution_count": null,
      "outputs": []
    },
    {
      "cell_type": "code",
      "metadata": {
        "colab": {
          "base_uri": "https://localhost:8080/"
        },
        "id": "zhFIXNaF3auM",
        "outputId": "02e8b8e8-545e-4230-ac5e-0d6ccce15976"
      },
      "source": [
        "embedding_matrix.shape"
      ],
      "execution_count": null,
      "outputs": [
        {
          "output_type": "execute_result",
          "data": {
            "text/plain": [
              "(42567, 100)"
            ]
          },
          "metadata": {
            "tags": []
          },
          "execution_count": 13
        }
      ]
    },
    {
      "cell_type": "code",
      "metadata": {
        "id": "81mbaIho3d5R"
      },
      "source": [
        "# Build and train model\r\n",
        "def train_model():\r\n",
        "  model = Sequential()\r\n",
        "  model.add(Embedding(vocab_size, embedded_dim, weights=[embedding_matrix], input_length=sequence_len))\r\n",
        "  model.add(LSTM(100))\r\n",
        "  model.add(Dropout(0.2))\r\n",
        "  model.add(Dense(24, activation='relu'))\r\n",
        "  model.add(Dropout(0.2))\r\n",
        "  model.add(Dense(1 ,activation='sigmoid'))\r\n",
        "  model.compile(loss='binary_crossentropy', optimizer='adam', metrics=['accuracy'])\r\n",
        "  return model"
      ],
      "execution_count": null,
      "outputs": []
    },
    {
      "cell_type": "code",
      "metadata": {
        "colab": {
          "base_uri": "https://localhost:8080/"
        },
        "id": "dAmDjg0lAB67",
        "outputId": "e161794f-29f1-4246-a6be-eb617127167f"
      },
      "source": [
        "model = train_model()\r\n",
        "print(model.summary())"
      ],
      "execution_count": null,
      "outputs": [
        {
          "output_type": "stream",
          "text": [
            "Model: \"sequential_6\"\n",
            "_________________________________________________________________\n",
            "Layer (type)                 Output Shape              Param #   \n",
            "=================================================================\n",
            "embedding_6 (Embedding)      (None, 83, 100)           4256700   \n",
            "_________________________________________________________________\n",
            "lstm_6 (LSTM)                (None, 100)               80400     \n",
            "_________________________________________________________________\n",
            "dropout_7 (Dropout)          (None, 100)               0         \n",
            "_________________________________________________________________\n",
            "dense_12 (Dense)             (None, 24)                2424      \n",
            "_________________________________________________________________\n",
            "dropout_8 (Dropout)          (None, 24)                0         \n",
            "_________________________________________________________________\n",
            "dense_13 (Dense)             (None, 1)                 25        \n",
            "=================================================================\n",
            "Total params: 4,339,549\n",
            "Trainable params: 4,339,549\n",
            "Non-trainable params: 0\n",
            "_________________________________________________________________\n",
            "None\n"
          ],
          "name": "stdout"
        }
      ]
    },
    {
      "cell_type": "code",
      "metadata": {
        "colab": {
          "base_uri": "https://localhost:8080/"
        },
        "id": "1UhOBOm1pcmn",
        "outputId": "db6b787a-38df-4a3e-a62e-4706bd5b6eed"
      },
      "source": [
        "history = model.fit(train_pad, y_train, batch_size=150, epochs=5, validation_data=(test_pad, y_test))"
      ],
      "execution_count": null,
      "outputs": [
        {
          "output_type": "stream",
          "text": [
            "Epoch 1/5\n",
            "533/533 [==============================] - 151s 281ms/step - loss: 0.4034 - accuracy: 0.8270 - val_loss: 0.3019 - val_accuracy: 0.8809\n",
            "Epoch 2/5\n",
            "533/533 [==============================] - 152s 285ms/step - loss: 0.2893 - accuracy: 0.8881 - val_loss: 0.2950 - val_accuracy: 0.8835\n",
            "Epoch 3/5\n",
            "533/533 [==============================] - 152s 285ms/step - loss: 0.2666 - accuracy: 0.8970 - val_loss: 0.2954 - val_accuracy: 0.8836\n",
            "Epoch 4/5\n",
            "533/533 [==============================] - 152s 285ms/step - loss: 0.2511 - accuracy: 0.9043 - val_loss: 0.3003 - val_accuracy: 0.8816\n",
            "Epoch 5/5\n",
            "533/533 [==============================] - 151s 284ms/step - loss: 0.2389 - accuracy: 0.9085 - val_loss: 0.3081 - val_accuracy: 0.8815\n"
          ],
          "name": "stdout"
        }
      ]
    },
    {
      "cell_type": "code",
      "metadata": {
        "id": "INHml-8BS4OA",
        "colab": {
          "base_uri": "https://localhost:8080/",
          "height": 497
        },
        "outputId": "d36026c5-127f-44cc-b0b6-f527f795d582"
      },
      "source": [
        "#save model\r\n",
        "model.save('/content/drive/MyDrive/programs/Datasets/quora/lstm_model.h5')\r\n",
        "\r\n",
        "history_df = pd.DataFrame(model.history.history).rename(columns={\"loss\":\"train_loss\", \"accuracy\":\"train_accuracy\"})\r\n",
        "history_df.plot(figsize=(8,8))\r\n",
        "plt.grid(True)\r\n",
        "plt.xlabel('Epochs')\r\n",
        "plt.ylabel('Accuracy')\r\n",
        "plt.show()"
      ],
      "execution_count": null,
      "outputs": [
        {
          "output_type": "display_data",
          "data": {
            "image/png": "[encoded data removed]",
            "text/plain": [
              "<Figure size 576x576 with 1 Axes>"
            ]
          },
          "metadata": {
            "tags": [],
            "needs_background": "light"
          }
        }
      ]
    },
    {
      "cell_type": "code",
      "metadata": {
        "colab": {
          "base_uri": "https://localhost:8080/"
        },
        "id": "TpQiYYzIbYhL",
        "outputId": "bbc8f51b-8db2-4591-b3dc-7b24a57fb2c0"
      },
      "source": [
        "score = model.evaluate(test_pad, y_test, verbose=1)\r\n",
        "\r\n",
        "print(\"Test Score:\", score[0])\r\n",
        "print(\"Test Accuracy:\", score[1])"
      ],
      "execution_count": null,
      "outputs": [
        {
          "output_type": "stream",
          "text": [
            "625/625 [==============================] - 10s 16ms/step - loss: 0.3081 - accuracy: 0.8815\n",
            "Test Score: 0.3080868721008301\n",
            "Test Accuracy: 0.8814729452133179\n"
          ],
          "name": "stdout"
        }
      ]
    },
    {
      "cell_type": "code",
      "metadata": {
        "id": "SHhvUAqEuqsA"
      },
      "source": [
        ""
      ],
      "execution_count": null,
      "outputs": []
    }
  ]
}